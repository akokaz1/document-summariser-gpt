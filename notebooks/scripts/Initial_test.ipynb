{
 "cells": [
  {
   "cell_type": "code",
   "execution_count": 1,
   "id": "782af24b-dc77-4ec0-9f3f-cf72a8b73d99",
   "metadata": {},
   "outputs": [],
   "source": [
    "import pandas as pd\n",
    "import numpy as np\n",
    "import openai\n",
    "import wget\n",
    "import pathlib\n",
    "import pdfplumber\n",
    "import os"
   ]
  },
  {
   "cell_type": "code",
   "execution_count": 2,
   "id": "c22e05ec-a620-4e9f-af8d-e9d0f9bf7838",
   "metadata": {},
   "outputs": [],
   "source": [
    "file_url = 'https://arxiv.org/pdf/1808.04295.pdf'"
   ]
  },
  {
   "cell_type": "code",
   "execution_count": 3,
   "id": "efefc67e-159e-4809-94d5-c82865e6d297",
   "metadata": {},
   "outputs": [],
   "source": [
    "def getPaper(paper_url, filename=\"../data/random_paper.pdf\"):\n",
    "    \"\"\"\n",
    "    Downloads a paper from it's arxiv page and returns\n",
    "    the local path to that file.\n",
    "    TODO ; replace the filename with something better\n",
    "    \"\"\"\n",
    "    downloadedPaper = wget.download(paper_url, filename)    \n",
    "    downloadedPaperFilePath = pathlib.Path(downloadedPaper)\n",
    "\n",
    "    return downloadedPaperFilePath"
   ]
  },
  {
   "cell_type": "code",
   "execution_count": 4,
   "id": "2277dd75-2ab7-41fa-ac58-0aff1916d091",
   "metadata": {},
   "outputs": [],
   "source": [
    "paperFilePath = \"../data/random_paper.pdf\"\n",
    "paperContent = pdfplumber.open(paperFilePath).pages\n",
    "\n",
    "def displayPaperContent(paperContent, page_start=0, page_end=5):\n",
    "    for page in paperContent[page_start:page_end]:\n",
    "        print(page.extract_text())"
   ]
  },
  {
   "cell_type": "code",
   "execution_count": 5,
   "id": "bef6d623-261d-4a27-9d75-594a5ad3c046",
   "metadata": {},
   "outputs": [],
   "source": [
    "def showPaperSummary(paperContent):\n",
    "    tldr_tag = \"\\n tl;dr:\"\n",
    "    openai.api_key = os.environ['openai_api_key']\n",
    "    engine_list = openai.Engine.list() # calling the engines available from the openai api \n",
    "    \n",
    "    for page in paperContent:    \n",
    "        text = page.extract_text() + tldr_tag\n",
    "        response = openai.Completion.create(engine=\"davinci\",prompt=text,temperature=0.3,\n",
    "            max_tokens=140,\n",
    "            top_p=1,\n",
    "            frequency_penalty=0,\n",
    "            presence_penalty=0,\n",
    "            stop=[\"\\n\"]\n",
    "        )\n",
    "        print(response[\"choices\"][0][\"text\"])"
   ]
  },
  {
   "cell_type": "code",
   "execution_count": 6,
   "id": "bff5a7a1-9961-4b35-b072-bba06adb411c",
   "metadata": {},
   "outputs": [
    {
     "name": "stdout",
     "output_type": "stream",
     "text": [
      " We study DNN training by Fourier analysis. Our theoretical framework explains why DNNs trained by (stochastic) gradient-based methods often endow low-frequency components of the target function with a higher priority during the training. Small initialization leads to good generalization ability of DNN while preserving the DNN’s ability to fit any function. These results are further conﬁrmed by experiments of DNNs ﬁtting the following datasets, that is, natural images, one-dimensional functions and MNIST dataset.\n",
      " If you want to ﬁt a low-frequency function, use small initialization.\n",
      " The gradient of the loss function with respect to the parameters can be expressed as the\n",
      "\n",
      "\n",
      "\n",
      "\n",
      " Small initial weights are good for generalization.\n",
      " We analyze the properties of gradient-based optimization of DNNs on real data. We show that the convergence order of DNNs on real data is different from that on pure noise data. We show that the difference is due to the difference of the Fourier transform of the target function. We show that the Fourier transform of the target function has a sharp peak at the dominant frequency for real data, but has a ﬂat peak for pure noise data. We show that a ﬂat peak is associated with a ﬂatter minima, which is associated with a better generalization ability. We show that the sharp peak is associated with a sharper minima, which\n",
      "\n",
      "\n",
      " Theorem 1 is a generalization of Theorem 2.\n",
      "\n",
      "\n",
      "\n",
      "\n",
      "\n"
     ]
    }
   ],
   "source": [
    "paperContent = pdfplumber.open(paperFilePath).pages\n",
    "showPaperSummary(paperContent)"
   ]
  },
  {
   "cell_type": "code",
   "execution_count": null,
   "id": "1ed5e875-a314-4f61-948d-9fd4afce68e0",
   "metadata": {},
   "outputs": [],
   "source": []
  }
 ],
 "metadata": {
  "kernelspec": {
   "display_name": "Python 3 (ipykernel)",
   "language": "python",
   "name": "python3"
  },
  "language_info": {
   "codemirror_mode": {
    "name": "ipython",
    "version": 3
   },
   "file_extension": ".py",
   "mimetype": "text/x-python",
   "name": "python",
   "nbconvert_exporter": "python",
   "pygments_lexer": "ipython3",
   "version": "3.10.8"
  }
 },
 "nbformat": 4,
 "nbformat_minor": 5
}
