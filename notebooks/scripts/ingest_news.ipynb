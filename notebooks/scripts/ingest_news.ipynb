{
 "cells": [
  {
   "cell_type": "code",
   "execution_count": 12,
   "id": "8e2fa805-5f3e-479c-894e-2a9a4076dee3",
   "metadata": {},
   "outputs": [],
   "source": [
    "import requests\n",
    "import pandas as pd\n",
    "import numpy as np\n",
    "import os\n",
    "import json"
   ]
  },
  {
   "cell_type": "code",
   "execution_count": null,
   "id": "e85b96d2-f553-42c6-825f-8213472cb780",
   "metadata": {},
   "outputs": [],
   "source": [
    "'''\n",
    "This sample makes a call to the Bing Web Search API with a query and returns relevant web search.\n",
    "Documentation: https://docs.microsoft.com/en-us/bing/search-apis/bing-web-search/overview\n",
    "'''\n",
    "\n",
    "# Add your Bing Search V7 subscription key and endpoint to your environment variables.\n",
    "subscription_key = os.environ['BING_SEARCH_V7_SUBSCRIPTION_KEY']\n",
    "endpoint = os.environ['BING_SEARCH_V7_ENDPOINT'] + \"/bing/v7.0/search\"\n",
    "\n",
    "# Query term(s) to search for. \n",
    "query = \"Microsoft\"\n",
    "\n",
    "# Construct a request\n",
    "mkt = 'en-US'\n",
    "params = { 'q': query, 'mkt': mkt }\n",
    "headers = { 'Ocp-Apim-Subscription-Key': subscription_key }\n",
    "\n",
    "# Call the API\n",
    "try:\n",
    "    response = requests.get(endpoint, headers=headers, params=params)\n",
    "    response.raise_for_status()\n",
    "\n",
    "    print(\"\\nHeaders:\\n\")\n",
    "    print(response.headers)\n",
    "\n",
    "    print(\"\\nJSON Response:\\n\")\n",
    "    pprint(response.json())\n",
    "except Exception as ex:\n",
    "    raise ex"
   ]
  }
 ],
 "metadata": {
  "kernelspec": {
   "display_name": "Python 3 (ipykernel)",
   "language": "python",
   "name": "python3"
  },
  "language_info": {
   "codemirror_mode": {
    "name": "ipython",
    "version": 3
   },
   "file_extension": ".py",
   "mimetype": "text/x-python",
   "name": "python",
   "nbconvert_exporter": "python",
   "pygments_lexer": "ipython3",
   "version": "3.10.8"
  }
 },
 "nbformat": 4,
 "nbformat_minor": 5
}
